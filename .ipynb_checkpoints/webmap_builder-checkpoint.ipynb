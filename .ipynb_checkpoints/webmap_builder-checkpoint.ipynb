{
 "cells": [
  {
   "cell_type": "code",
   "execution_count": 60,
   "metadata": {
    "pycharm": {
     "is_executing": true,
     "name": "#%%\n"
    }
   },
   "outputs": [],
   "source": [
    "from arcgis.apps.dashboard import Dashboard, Header, add_row\n",
    "from arcgis.gis import GIS\n",
    "import arcpy\n",
    "import numpy as np\n",
    "import pandas as pd\n",
    "import logging\n",
    "from arcgis.geocoding import geocode\n",
    "from IPython import display\n",
    "from renderers import CustomRenderer\n",
    "from arcgis.mapping import WebMap\n",
    "from arcpy.stats import GWR\n",
    "import os\n",
    "from arcpy.sa import Con, Int, MajorityFilter, RegionGroup, Idw, RadiusVariable\n",
    "from arcpy.conversion import RasterToPolygon\n",
    "from arcpy.cartography import SmoothPolygon\n",
    "from arcpy import Clip_analysis\n",
    "from pandas import Series\n",
    "arcpy.env.overwriteOutput = True\n",
    "from typing import NoReturn, List\n",
    "\n",
    "log = logging.getLogger(\"geo_logs\")\n",
    "log.info(\"Imports Complete\")"
   ]
  },
  {
   "cell_type": "markdown",
   "metadata": {},
   "source": [
    "# Initialization\n",
    "> Here in this section, we're going to start by initializing our GIS object and connect it to ArcGIS Online using our local credentials from ArcGIS Pro.  In order for this to work, ArcGIS Pro needs to be open and authenticated.<br>\n",
    "Other authentication methods are available, however since our organization requires 2FA via Duo, user/pass authentication is not available.  The final app will likely implement Client Credentials, however to build the tools we need access the organization's geoprocessing server, which can't be accessed using Client Credentials authentication.\n"
   ]
  },
  {
   "cell_type": "code",
   "execution_count": 61,
   "metadata": {
    "pycharm": {
     "name": "#%%\n"
    }
   },
   "outputs": [],
   "source": [
    "gis = GIS(\n",
    "    \"pro\"\n",
    ")\n",
    "\n",
    "log.info(\"GIS instantiated\")\n",
    "log.info(f\"Logged into ArcGIS Online as {gis.users.me}\")"
   ]
  },
  {
   "cell_type": "markdown",
   "metadata": {},
   "source": [
    "## Directory bases and data store object\n",
    "\n",
    "> This app uses ArcPy for geoprocessing, then publishes the results into ArcGIS Online in order to make them available to the API for final publication via the WebMap/Dashboard.  This section establishes our file structure."
   ]
  },
  {
   "cell_type": "code",
   "execution_count": 62,
   "metadata": {
    "pycharm": {
     "name": "#%%\n"
    }
   },
   "outputs": [],
   "source": [
    "# create a data structure to store our assets\n",
    "# we're using Python 3.6.8 here...alas, no data structures.\n",
    "# we could refactor this using a pydantic model, perhaps...\n",
    "# in the mean time, here's a nested dictionary.\n",
    "\n",
    "base_dir = r\"C:\\Users\\brianstrock\\PycharmProjects\\nitrate_cancer_dashboard\"\n",
    "shp_dir = base_dir + r'\\shp'\n",
    "raster_dir = base_dir + r'\\rasters'\n",
    "converted_polygon_dir = raster_dir + r'\\converted_polygons'\n",
    "gwr_results_dir = shp_dir + r'\\gwr_results'\n",
    "\n",
    "data_store = {\n",
    "    'wells': {\n",
    "        'path': shp_dir + \"\\well_nitrate.shp\"\n",
    "    },\n",
    "    'county': {\n",
    "        'path': shp_dir + \"\\cancer_county.shp\"\n",
    "    },\n",
    "    'tracts': {\n",
    "        'path': shp_dir + \"\\cancer_tracts.shp\",\n",
    "    },\n",
    "    'gwr_data': {\n",
    "        'path': shp_dir + \"\\gwr_data.shp\"\n",
    "    },\n",
    "    'areal_interpolation': {\n",
    "        'path': shp_dir + r\"\\areal_interpolation.shp\"\n",
    "    }\n",
    "}\n",
    "log.info(\"data store generated\")"
   ]
  },
  {
   "cell_type": "markdown",
   "metadata": {},
   "source": [
    "## Misc. initializers\n",
    "> Since we're interpolating point data based on the IDW algorithm, we need to generate interpolation rasters using various combinations of k and nearest neighbors.  Here we generate a matrix of permutations to work through, as well as a few misc. objects that are in the global scope."
   ]
  },
  {
   "cell_type": "code",
   "execution_count": 63,
   "metadata": {
    "pycharm": {
     "name": "#%%\n"
    }
   },
   "outputs": [],
   "source": [
    "\n",
    "in_point_features = data_store['wells']['path']  # used for interpolation model input\n",
    "z_field = \"nitr_ran\"  # field of interest for interpolation\n",
    "CLIP_LAYER = shp_dir + \"\\wisc_boundary.shp\"  # clips rasters (enforces visual dasymetry)\n",
    "# we need to generate a matrix of the tested interpolation values- variables are power and # of nearest neighbors\n",
    "powers = [i * .5 for i in range(0, 7) if i != 0]  # .5, 1, 1.5...3\n",
    "neighbors = [i for i in range(20, 51, 10)]  # 20, 30...50\n",
    "matrix = np.array([[power, neighbor] for power in powers for neighbor in neighbors])  # [.5, 5], [.5, 6]...[3, 20]\n",
    "df = pd.DataFrame(matrix)\n",
    "\n",
    "log.info(\"Raster permutations generated\")"
   ]
  },
  {
   "cell_type": "markdown",
   "metadata": {},
   "source": [
    "# Custom Functions\n",
    "> These functions allow us to use ArcPy geoprocessing tools within an iteration loop, since we're running through a number of different permutations.\n",
    "\n",
    "## Interpolate point data from a matrix of [power, nearest neighbor] permutations "
   ]
  },
  {
   "cell_type": "code",
   "execution_count": 64,
   "metadata": {
    "pycharm": {
     "name": "#%%\n"
    }
   },
   "outputs": [],
   "source": [
    "def interpolate_variations(row: Series) -> NoReturn:\n",
    "    power = row[0]  # k value\n",
    "    neighbor = row[1]  # number of nearest neighbors\n",
    "    log.info(f\"Interpolating Raster variant: Power = {power}, neighbors = {neighbor}\")\n",
    "\n",
    "    interpolated_raster = Idw(  # inverse distance weighting\n",
    "        in_point_features=in_point_features,\n",
    "        z_field=z_field,\n",
    "        cell_size=2635.8407604,  # came from ArcGIS Pro- can be removed??\n",
    "        power=power,\n",
    "        search_radius=RadiusVariable(numberOfPoints=neighbor)\n",
    "    )\n",
    "\n",
    "    file_name = f\"\\power_{str(power).replace('.', '_')}_nn_{neighbor}.tif\"\n",
    "\n",
    "    log.info(f\"Interpolation surface generated: {file_name}\")\n",
    "    log.info(f\"Clipping raster: Power = {power}, neighbors = {neighbor}\")\n",
    "\n",
    "    clipped_raster = arcpy.Clip_management(  # clip the raster with the clipping geometry\n",
    "        in_raster=interpolated_raster,\n",
    "        out_raster=raster_dir + file_name,\n",
    "        in_template_dataset=CLIP_LAYER,\n",
    "        clipping_geometry=\"ClippingGeometry\",\n",
    "    )\n",
    "\n",
    "    log.info(f\"Clipping complete: {file_name}\")\n",
    "    log.info(f\"PROCESSING NEXT RASTER...\\n\")"
   ]
  },
  {
   "cell_type": "markdown",
   "metadata": {},
   "source": [
    "### Applying the interpolate function\n",
    "\n",
    "> uncommenting and running the next cell will apply the function to the parameter matrix, which saves the outputs to a shapefile."
   ]
  },
  {
   "cell_type": "code",
   "execution_count": 65,
   "metadata": {
    "pycharm": {
     "name": "#%%\n"
    }
   },
   "outputs": [],
   "source": [
    "#df.apply(lambda x: interpolate_variations(x), axis=1)\n",
    "#log.info(\"All rasters interpolated and clipped to extent\")"
   ]
  },
  {
   "cell_type": "markdown",
   "metadata": {},
   "source": [
    "## Geographically Weighted Regression function\n",
    "\n",
    "> This function also runs a permutation-based algorithm to generate GWR model results.  The only parameter is # of nearest neighbors, so we iterate over a list of values instead of a matrix.  The returned object is a dictionary of outputs from the tool, which will allow for retrieval of statistics such as AOCc, etc. for presentation."
   ]
  },
  {
   "cell_type": "code",
   "execution_count": 66,
   "metadata": {
    "pycharm": {
     "name": "#%%"
    }
   },
   "outputs": [],
   "source": [
    "def run_gwr(neighbors_list: List[int]) -> dict:\n",
    "    for neighbor in neighbors_list:  # loop through # of nearest neighbors values\n",
    "        \n",
    "        gwr_results = {}\n",
    "        \n",
    "        file_name = shp_dir + f\"\\gwr_results\\gwr_result_{neighbor}_nn.shp\"\n",
    "\n",
    "        res = GWR(\n",
    "            in_features=data_store['areal_interpolation']['path'],\n",
    "            dependent_variable='canrate',\n",
    "            model_type='CONTINUOUS',\n",
    "            explanatory_variables='Predicted',\n",
    "            output_features=file_name,\n",
    "            neighborhood_type=\"NUMBER_OF_NEIGHBORS\",\n",
    "            neighborhood_selection_method='GOLDEN_SEARCH',\n",
    "            minimum_number_of_neighbors=neighbor,\n",
    "            local_weighting_scheme=\"GAUSSIAN\",  # can also be set to binomial, but that's less fun\n",
    "            coefficient_raster_workspace=shp_dir + r\"\\gwr_results\\rasters\")\n",
    "\n",
    "        msg = arcpy.GetMessages()\n",
    "        gwr_results[neighbor] = msg\n",
    "    return gwr_results"
   ]
  },
  {
   "cell_type": "markdown",
   "metadata": {},
   "source": [
    "### Applying the GWR function\n",
    "\n",
    "> When the line below is uncommented and ran, we pass a list of integers to use as permutations for the nearest neighbor value.  A minimum of 15 is usually required to ensure sufficient variation within the model, or else the tool will fail."
   ]
  },
  {
   "cell_type": "code",
   "execution_count": 67,
   "metadata": {
    "pycharm": {
     "name": "#%%\n"
    }
   },
   "outputs": [],
   "source": [
    "# gwr_results = run_gwr(neighbors_list=neighbors)"
   ]
  },
  {
   "cell_type": "markdown",
   "metadata": {},
   "source": [
    "## Deriving zonal polygon layers from interpolated rasters\n",
    "\n",
    "> Our organization's ArcGIS Portal does not support publishing hosted Image Layers, which means adding pre-generated rasters to our WebMap is not possible.  Relying on the AGOL interpolate_points() function requires authentication in order to access geoprocessing functions, which would preclude publishing the dashboard publically. \n",
    "<br><br>\n",
    "In order to circumvent these issues, we use the interpolated rasters to generate polygons representing zonal values for the attribute in question.  This does unforunately introduce a great deal of generalization, as we need to convert the raster to an Integer Raster, which removes a great deal of variation from the underlying dataset.  Nonetheless, this does generate useful visual surfaces for exploring the interpolations in the context of a public WebMap.\n",
    "<br><br>\n",
    "Other raster processing tools such as Majority Filter will produce more regular zonal surfaces, at the cost of further generalization of variation within a given represented zone.  This function is not currently present in the code, but can be easily added into the toolchain.  At present, the raster is rounded to the nearest whole value, polygons are generated, and the resulting polygons are smoothed."
   ]
  },
  {
   "cell_type": "code",
   "execution_count": 68,
   "metadata": {},
   "outputs": [],
   "source": [
    "def polygonize_this_raster(raster_file):\n",
    "    # To allow overwriting outputs change overwriteOutput option to True.\n",
    "    arcpy.env.overwriteOutput = True\n",
    "\n",
    "    # Check out any necessary licenses.\n",
    "    arcpy.CheckOutExtension(\"spatial\")\n",
    "    arcpy.CheckOutExtension(\"3D\")\n",
    "    arcpy.CheckOutExtension(\"ImageAnalyst\")\n",
    "    \n",
    "    # file references\n",
    "    original_raster = arcpy.Raster(raster_file)\n",
    "    parent_dir = os.path.dirname(raster_file)\n",
    "    \n",
    "    # round the raster (preserves more variability)\n",
    "    rounded_raster = Con(\n",
    "        original_raster < 0,\n",
    "        Int(original_raster - 0.5),\n",
    "        Int(original_raster + 0.5)\n",
    "    )\n",
    "    \n",
    "    # without the majority filter, visual artifacts appear in the polygon output\n",
    "    out_raster = MajorityFilter(  \n",
    "        in_raster=rounded_raster, \n",
    "        number_neighbors=\"EIGHT\",  # considers each of the squares adjacent to a pixel by edge and corner\n",
    "    )\n",
    "\n",
    "    # FILE NAME DEFINITIONS\n",
    "    output_name = os.path.split(filename)[-1][:-6]\n",
    "    tmp_file = os.path.join(parent_dir + r'\\tmp_polygons', output_name) + '.shp'\n",
    "    smoothed_file = os.path.join(parent_dir + r'\\tmp_polygons', output_name + '_smoothed.shp')\n",
    "    output_file = os.path.join(parent_dir + r'\\converted_polygons', output_name + '.shp')\n",
    "    \n",
    "    # this context manager is from the sample code\n",
    "    with arcpy.EnvManager(outputMFlag=\"Disabled\",\n",
    "                          outputZFlag=\"Disabled\",\n",
    "                          transferGDBAttributeProperties=False):\n",
    "        \n",
    "        # we make the processed raster into a polygon layer\n",
    "        \n",
    "        RasterToPolygon(\n",
    "            in_raster=out_raster,\n",
    "            out_polygon_features=tmp_file,  # we use a temp file as it's going to be smoothed next\n",
    "            simplify=\"SIMPLIFY\",  # allows polygons to be less edgy\n",
    "            raster_field=\"VALUE\",\n",
    "            create_multipart_features=\"SINGLE_OUTER_PART\",\n",
    "            max_vertices_per_feature=None\n",
    "        )\n",
    "        \n",
    "        # we smooth the polygons for a bit of that nice look\n",
    "\n",
    "        SmoothPolygon(\n",
    "            in_features=tmp_file,\n",
    "            out_feature_class=smoothed_file,\n",
    "            algorithm=\"PAEK\",  # not perfect, bezier just looks weird though\n",
    "            tolerance=\"500 Miles\",\n",
    "            endpoint_option=\"FIXED_ENDPOINT\",\n",
    "            error_option=\"RESOLVE_ERRORS\",\n",
    "        )\n",
    "        \n",
    "        # and clip the polygon layer for good measure\n",
    "\n",
    "        Clip_analysis(\n",
    "            smoothed_file,\n",
    "            CLIP_LAYER,\n",
    "            output_file\n",
    "        )"
   ]
  },
  {
   "cell_type": "markdown",
   "metadata": {},
   "source": [
    "### Applying the raster to polygon function\n",
    "\n",
    "> Similar to the functions above, iterating over a list of raster files and passing each file to the function will produce a shapefile, which can then be published as a Feature Layer to AGOL.  A directory unpacking function to support this task is included below.\n",
    "\n",
    "# Gathering Assets\n",
    "\n",
    "> Next we'll need to gather all of the assets we've generated, in order to add them to the WebMap as layers.\n",
    "\n",
    "## Unpack directory function\n",
    "\n",
    "> Here we have a small utility function which generates a list of file directories which match a supplied filetype.  This function accepts a root directory path and a filetype as a 3-character string, ie tif, shp, etc.  Please note that this function currently omits error checking in terms of path validity, filetype string length, etc."
   ]
  },
  {
   "cell_type": "code",
   "execution_count": 69,
   "metadata": {},
   "outputs": [],
   "source": [
    "def unpack_dir(\n",
    "        path: str,\n",
    "        filetype: str\n",
    ") -> List[str]:\n",
    "    \n",
    "    contents = os.listdir(path)\n",
    "    \n",
    "    return [os.path.join(path, file) for file in contents if file[-3:] == filetype]\n"
   ]
  },
  {
   "cell_type": "markdown",
   "metadata": {},
   "source": [
    "> By this point, we've generated all of our models and published them to ArcGIS Online as a FeatureLayer (this code isn't included in the notebook at present, see dox).  In order to add these items to our WebMap, we'll do a content search and locate the relevant assets by retrieving metadata from the data store.  We also append a Spatial Dataframe to each data store entity.\n"
   ]
  },
  {
   "cell_type": "code",
   "execution_count": 70,
   "metadata": {
    "pycharm": {
     "name": "#%%\n"
    }
   },
   "outputs": [],
   "source": [
    "gwr_count = 0\n",
    "for data in data_store:\n",
    "    #df = pd.DataFrame.spatial.from_featureclass(data_store[data]['path'])\n",
    "    #data_store[data]['df'] = df\n",
    "    res = gis.content.search(\n",
    "        query=f\"{data} owner:{gis.users.me.username}\"\n",
    "    )\n",
    "    for item in res:\n",
    "        if item.type == 'Feature Service':\n",
    "            lyr = item\n",
    "    data_store[data]['layer'] = lyr\n",
    "\n"
   ]
  },
  {
   "cell_type": "markdown",
   "metadata": {},
   "source": [
    "> Here we use the unpacking function along with our directory helper objects to access the underyling local data."
   ]
  },
  {
   "cell_type": "code",
   "execution_count": 71,
   "metadata": {},
   "outputs": [
    {
     "data": {
      "text/plain": [
       "'for filename in raster_filepaths:\\n    polygonize_this_raster(filename)'"
      ]
     },
     "execution_count": 71,
     "metadata": {},
     "output_type": "execute_result"
    }
   ],
   "source": [
    "raster_filepaths = unpack_dir(raster_dir, 'tif')\n",
    "converted_polygon_shapefiles = unpack_dir(converted_polygon_dir, 'shp')\n",
    "gwr_result_shapefiles = unpack_dir(gwr_results_dir, 'shp')\n",
    "\n",
    "# this next block applies the raster to polygon function to the unpacked files.\n",
    "'''for filename in raster_filepaths:\n",
    "    polygonize_this_raster(filename)'''\n"
   ]
  },
  {
   "cell_type": "markdown",
   "metadata": {},
   "source": [
    "# Creating the WebMap\n",
    "> We're ready to start adding assets to the WebMap, but need to define renderers AGOL will use to create our choropleth schemes.  The ArcGIS for Python API provides a renderer generator function, however it does not appear to function correctly (classification and binning does not produce a valid result).  Therefore, we include a custom renderer generator object, the code for which is available in renderers.py.\n",
    "<br><br>\n",
    "Note that we manually provide breaks to the renderer function in this implementation.  Future implementations could be extended to generate breaks based on a spatial dataframe.  Since we're writing a custom renderer, we also ignore ESRI's default color ramps in favor of using ColorBrewer."
   ]
  },
  {
   "cell_type": "code",
   "execution_count": 72,
   "metadata": {},
   "outputs": [
    {
     "name": "stdout",
     "output_type": "stream",
     "text": [
      "esriClassifyStandardDeviation\n"
     ]
    }
   ],
   "source": [
    "renderer = CustomRenderer()\n",
    "\n",
    "interp_breaks = [-5, 3, 5, 7, 9, 11, 13, 20]\n",
    "interpolated_polygon_renderer = renderer.generate(\n",
    "    color_ramp_selection=\"PuBu\",\n",
    "    outline=False,\n",
    "    values=interp_breaks,\n",
    "    field='gridcode',\n",
    "    label_unit=\"mg/L\"\n",
    ")\n",
    "\n",
    "gwr_stdev_renderer = renderer.generate(\n",
    "    color_ramp_selection=\"PRGn\",\n",
    "    outline=True,\n",
    "    values=['st_dev'],\n",
    "    field=\"stdresid\",\n",
    "    label_unit=\"St. Dev.\"\n",
    ")\n",
    "\n",
    "breaks = [.08, .22, .39, .61, 1.1]\n",
    "\n",
    "tracts_renderer = renderer.generate(\n",
    "    color_ramp_selection=\"YlOrRd\",\n",
    "    outline=True,\n",
    "    values=breaks,\n",
    "    field='canrate',\n",
    "    label_unit=\"%\"\n",
    ")\n",
    "\n",
    "wells_renderer = renderer.wells_renderer\n"
   ]
  },
  {
   "cell_type": "markdown",
   "metadata": {},
   "source": [
    "## Create the WebMap\n",
    "\n",
    "> Here we instantiate the webmap object to which our layers will be added.  Setting the location, extent and zoom do not appear to correctly establish these parameters when the map is initialized.  This will be investigated later."
   ]
  },
  {
   "cell_type": "code",
   "execution_count": 73,
   "metadata": {},
   "outputs": [],
   "source": [
    "wm = WebMap()"
   ]
  },
  {
   "cell_type": "markdown",
   "metadata": {},
   "source": [
    "## Add layers to the WebMap\n",
    "\n",
    "> We'll start by adding the bivariate visualization for cancer rates by tract (area data) and nitrate concentrations by location (point data).  Here we use a choropleth for the cancer data, and graduated symbols for the nitrate data.  The renderers generated above define the classification scheme, color scheme, etc."
   ]
  },
  {
   "cell_type": "code",
   "execution_count": 74,
   "metadata": {},
   "outputs": [
    {
     "data": {
      "text/plain": [
       "True"
      ]
     },
     "execution_count": 74,
     "metadata": {},
     "output_type": "execute_result"
    }
   ],
   "source": [
    "wm.add_layer(\n",
    "             data_store['tracts']['layer'],\n",
    "             options={\n",
    "                 'title': 'Cancer Rate by Census Tract',\n",
    "                 \"type\": \"FeatureLayer\",\n",
    "                 \"renderer\": tracts_renderer,\n",
    "                 \"visibility\": False\n",
    "             }\n",
    "         )\n",
    "\n",
    "wm.add_layer(\n",
    "             data_store['wells']['layer'],\n",
    "             options={\n",
    "                 'title': 'Sampled Well Nitrate Levels',\n",
    "                 \"type\": \"FeatureLayer\",\n",
    "                 \"renderer\": wells_renderer,\n",
    "                 \"visibility\": False\n",
    "             }\n",
    "        )"
   ]
  },
  {
   "cell_type": "markdown",
   "metadata": {},
   "source": [
    "## WebMap View\n",
    "\n",
    "> This cell allows us to view the contents of the WebMap.  When changes are made further down below this cell, they will be rendered and updated in this view."
   ]
  },
  {
   "cell_type": "code",
   "execution_count": 75,
   "metadata": {},
   "outputs": [
    {
     "data": {
      "application/vnd.jupyter.widget-view+json": {
       "model_id": "20e1830e1ff6479a83cadb68f3295623",
       "version_major": 2,
       "version_minor": 0
      },
      "text/plain": [
       "MapView(hide_mode_switch=True, layout=Layout(height='400px', width='100%'))"
      ]
     },
     "metadata": {},
     "output_type": "display_data"
    },
    {
     "data": {
      "text/html": [
       "<div class=\"map-static-img-preview-1d1c2533-12e6-4538-a31f-955c173f8094\"><img src=\"\"></img></div>"
      ],
      "text/plain": [
       "<IPython.core.display.HTML object>"
      ]
     },
     "metadata": {},
     "output_type": "display_data"
    },
    {
     "data": {
      "text/html": [
       "<div class=\"map-html-embed-preview-1d1c2533-12e6-4538-a31f-955c173f8094\"></div>"
      ],
      "text/plain": [
       "<IPython.core.display.HTML object>"
      ]
     },
     "metadata": {},
     "output_type": "display_data"
    }
   ],
   "source": [
    "wm"
   ]
  },
  {
   "cell_type": "markdown",
   "metadata": {},
   "source": [
    "## Add interpolation and GWR layers\n",
    "> Here we add layers for our interpolated nitrate layers and our GWR layers.  In the final dashboard, these will be shown or hidden based on UI actions, such as a dropdown selection, etc.  Note that the following blocks use a counter to stop the iteration loop for development purposes; this will be removed during live development."
   ]
  },
  {
   "cell_type": "code",
   "execution_count": 76,
   "metadata": {},
   "outputs": [],
   "source": [
    "for shp in converted_polygon_shapefiles:\n",
    "    output_name = os.path.split(shp)[-1][:-4]\n",
    "    df = pd.DataFrame.spatial.from_featureclass(shp)\n",
    "    # lyr = df.spatial.to_featurelayer(output_name, folder='raster_polygons')\n",
    "    num = df._get_numeric_data()\n",
    "    num[num < 0] = 0\n",
    "    \n",
    "    res = gis.content.search(\n",
    "        query=f\"{output_name} owner:{gis.users.me.username}\"\n",
    "    )\n",
    "    lyr = [lyr for lyr in res if lyr.type ==\"Feature Service\"]\n",
    "    #if count == 0:\n",
    "    lyr[0].share(everyone=True)\n",
    "    lyr[0].title = output_name\n",
    "    wm.add_layer(lyr[0],\n",
    "                    options=\n",
    "                           {\n",
    "                              \"title\": output_name,\n",
    "                              \"type\": \"FeatureLayer\",\n",
    "                              \"renderer\": interpolated_polygon_renderer,\n",
    "                               \"visibility\": False\n",
    "                          }\n",
    "                )\n",
    "    #else:\n",
    "    #    break"
   ]
  },
  {
   "cell_type": "code",
   "execution_count": 77,
   "metadata": {
    "scrolled": true
   },
   "outputs": [],
   "source": [
    "count = 0\n",
    "\n",
    "for shp in gwr_result_shapefiles:\n",
    "    \n",
    "    output_name = os.path.split(shp)[-1][:-4]\n",
    "    df = pd.DataFrame.spatial.from_featureclass(shp)\n",
    "    #lyr = df.spatial.to_featurelayer(output_name, folder='gwr_results')\n",
    "    res = gis.content.search(\n",
    "        query=f\"{output_name} owner:{gis.users.me.username}\"\n",
    "    )\n",
    "    if count == 0:\n",
    "        lyr = [lyr for lyr in res if lyr.type ==\"Feature Service\"]\n",
    "        lyr[0].share(everyone=True)\n",
    "        wm.add_layer(lyr[0],\n",
    "                    options={\n",
    "                        \"title\": output_name,\n",
    "                        \"type\": \"FeatureLayer\",\n",
    "                        \"renderer\": gwr_stdev_renderer,\n",
    "                        \"visbility\": False\n",
    "                    }\n",
    "                )\n",
    "        count += 1\n",
    "    else:\n",
    "        break\n"
   ]
  },
  {
   "cell_type": "markdown",
   "metadata": {},
   "source": [
    "# Add Basic Shapes Layers\n",
    "\n",
    "> All of the layers added so far have been hidden, and will be revealed by interactions with elements present in the Dashboard UI.  Our last step will be adding the basic county/tract/well shape/locations with a simple renderer.  This will be the initial state of the map when loaded by the user, in order to familiarize them with the territory/geogspatial layout before introducing more complex visual elements. "
   ]
  },
  {
   "cell_type": "code",
   "execution_count": 78,
   "metadata": {},
   "outputs": [
    {
     "data": {
      "text/plain": [
       "True"
      ]
     },
     "execution_count": 78,
     "metadata": {},
     "output_type": "execute_result"
    }
   ],
   "source": [
    "wm.add_layer(\n",
    "         data_store['tracts']['layer'],\n",
    "         options={\n",
    "             'title': 'Wisconsin Census Tract Boundaries',\n",
    "             \"type\": \"FeatureLayer\",\n",
    "             \"renderer\": renderer.tract_boundary_renderer,\n",
    "             \"visibility\": True\n",
    "         }\n",
    "    )\n",
    "\n",
    "wm.add_layer(\n",
    "         data_store['county']['layer'],\n",
    "         options={\n",
    "             'title': 'Wisconsin County Boundaries',\n",
    "             \"type\": \"FeatureLayer\",\n",
    "             \"renderer\": renderer.county_boundary_renderer,\n",
    "             \"visibility\": True\n",
    "         }\n",
    "    )\n",
    "\n",
    "wm.add_layer(\n",
    "         data_store['wells']['layer'],\n",
    "         options={\n",
    "             'title': 'Sampled Well Point Locations',\n",
    "             \"type\": \"FeatureLayer\",\n",
    "             \"renderer\": renderer.point_renderer,\n",
    "             \"visibility\": True\n",
    "         }\n",
    "    )\n"
   ]
  },
  {
   "cell_type": "markdown",
   "metadata": {},
   "source": [
    "# Save and publish the WebMap\n",
    "\n",
    "> Lastly, we'll establish the properties of the webmap object, then save it to ArcGIS online.  Note that 'snippet' and 'tags' are both required fields.  We'll using ESRI geocoding service to set the extent of the map using the properties object.\n",
    "<br><br>\n",
    "At this point, we can search for our WebMap on AGOL!  Further updates to the map will need to be done using the .update() method (see documentation)"
   ]
  },
  {
   "cell_type": "code",
   "execution_count": 80,
   "metadata": {
    "scrolled": true
   },
   "outputs": [
    {
     "data": {
      "text/html": [
       "<div class=\"item_container\" style=\"height: auto; overflow: hidden; border: 1px solid #cfcfcf; border-radius: 2px; background: #f6fafa; line-height: 1.21429em; padding: 10px;\">\n",
       "                    <div class=\"item_left\" style=\"width: 210px; float: left;\">\n",
       "                       <a href='https://www.arcgis.com//home/item.html?id=cead0382ae494b6eb03572aa2ce953c7' target='_blank'>\n",
       "                        <img src='http://static.arcgis.com/images/desktopapp.png' class=\"itemThumbnail\">\n",
       "                       </a>\n",
       "                    </div>\n",
       "\n",
       "                    <div class=\"item_right\"     style=\"float: none; width: auto; overflow: hidden;\">\n",
       "                        <a href='https://www.arcgis.com//home/item.html?id=cead0382ae494b6eb03572aa2ce953c7' target='_blank'><b>Cancer Rate and Measured Well Nitrate Levels in Wisconsin</b>\n",
       "                        </a>\n",
       "                        <br/>Brian Strock - GEOG777 - Project 1 - Fall 2021<img src='https://www.arcgis.com//home/js/jsapi/esri/css/images/item_type_icons/maps16.png' style=\"vertical-align:middle;\">Web Map by bstrock@wisc.edu_UW_Mad\n",
       "                        <br/>Last Modified: October 09, 2021\n",
       "                        <br/>0 comments, 0 views\n",
       "                    </div>\n",
       "                </div>\n",
       "                "
      ],
      "text/plain": [
       "<Item title:\"Cancer Rate and Measured Well Nitrate Levels in Wisconsin\" type:Web Map owner:bstrock@wisc.edu_UW_Mad>"
      ]
     },
     "execution_count": 80,
     "metadata": {},
     "output_type": "execute_result"
    }
   ],
   "source": [
    "location = geocode('Wisconsin', max_locations=1)[0]\n",
    "\n",
    "webmap_properties = {\n",
    "    'title':'Cancer Rate and Measured Well Nitrate Levels in Wisconsin',\n",
    "    'snippet': 'Brian Strock - GEOG777 - Project 1 - Fall 2021',\n",
    "    'tags':['first_try'],\n",
    "    'extent': location['extent'],\n",
    "    'legend': True\n",
    "}\n",
    "\n",
    "wm.save(webmap_properties)"
   ]
  },
  {
   "cell_type": "markdown",
   "metadata": {},
   "source": [
    "## Confirmation\n",
    "\n",
    "> Run these cells to confirm that the WebMap was successfully published and is searchable on AGOL.  We should now be able to run dashboard_maker.ijnb in order to embed it in an interactive ESRI Dashboard!"
   ]
  },
  {
   "cell_type": "code",
   "execution_count": null,
   "metadata": {},
   "outputs": [],
   "source": [
    "live_map = gis.content.search(query=f\"{webmap_properties['title']} owner:{gis.users.me.username}\")[0]"
   ]
  },
  {
   "cell_type": "code",
   "execution_count": null,
   "metadata": {},
   "outputs": [],
   "source": [
    "live_map"
   ]
  }
 ],
 "metadata": {
  "kernelspec": {
   "display_name": "PyCharm (nitrate_cancer_dashboard)",
   "language": "python",
   "name": "pycharm-593e484a"
  },
  "language_info": {
   "codemirror_mode": {
    "name": "ipython",
    "version": 3
   },
   "file_extension": ".py",
   "mimetype": "text/x-python",
   "name": "python",
   "nbconvert_exporter": "python",
   "pygments_lexer": "ipython3",
   "version": "3.7.10"
  }
 },
 "nbformat": 4,
 "nbformat_minor": 1
}
