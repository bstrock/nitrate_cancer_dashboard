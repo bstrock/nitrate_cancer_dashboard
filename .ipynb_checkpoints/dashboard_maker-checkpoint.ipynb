{
 "cells": [
  {
   "cell_type": "code",
   "execution_count": 19,
   "metadata": {},
   "outputs": [],
   "source": [
    "from arcgis import GIS\n",
    "from arcgis.apps.dashboard import Dashboard, add_row, Header\n",
    "import ipywidgets as widgets\n",
    "\n",
    "\n",
    "gis = GIS(\n",
    "    \"pro\"\n",
    "    )\n",
    "title = \"Cancer Rate and Measured Well Nitrate Levels in Wisconsin\"\n",
    "live_map = gis.content.search(f\"{title} owner:{gis.users.me.username} type: Web Map\")[0]\n",
    "dashboard = gis.content.search(f\"{title} owner:{gis.users.me.username} type: Dashboard\")[0]\n"
   ]
  },
  {
   "cell_type": "code",
   "execution_count": 13,
   "metadata": {
    "pycharm": {
     "name": "#%%\n"
    }
   },
   "outputs": [
    {
     "data": {
      "text/html": [
       "<div class=\"item_container\" style=\"height: auto; overflow: hidden; border: 1px solid #cfcfcf; border-radius: 2px; background: #f6fafa; line-height: 1.21429em; padding: 10px;\">\n",
       "                    <div class=\"item_left\" style=\"width: 210px; float: left;\">\n",
       "                       <a href='https://www.arcgis.com//home/item.html?id=a8a4b85bd5734436bddf036efa7d202a' target='_blank'>\n",
       "                        <img src='http://static.arcgis.com/images/desktopapp.png' class=\"itemThumbnail\">\n",
       "                       </a>\n",
       "                    </div>\n",
       "\n",
       "                    <div class=\"item_right\"     style=\"float: none; width: auto; overflow: hidden;\">\n",
       "                        <a href='https://www.arcgis.com//home/item.html?id=a8a4b85bd5734436bddf036efa7d202a' target='_blank'><b>Cancer Rate and Measured Well Nitrate Levels in Wisconsin</b>\n",
       "                        </a>\n",
       "                        <br/><img src='https://www.arcgis.com//home/js/jsapi/esri/css/images/item_type_icons/layers16.png' style=\"vertical-align:middle;\">Dashboard by bstrock@wisc.edu_UW_Mad\n",
       "                        <br/>Last Modified: October 10, 2021\n",
       "                        <br/>0 comments, 0 views\n",
       "                    </div>\n",
       "                </div>\n",
       "                "
      ],
      "text/plain": [
       "<Item title:\"Cancer Rate and Measured Well Nitrate Levels in Wisconsin\" type:Dashboard owner:bstrock@wisc.edu_UW_Mad>"
      ]
     },
     "execution_count": 13,
     "metadata": {},
     "output_type": "execute_result"
    }
   ],
   "source": [
    "'''dashboard = Dashboard()\n",
    "header = Header(\n",
    "    title=title,\n",
    "    subtitle=None,\n",
    "    margin=True,\n",
    "    size=\"medium\",\n",
    "    logo_image_url=None,\n",
    "    logo_url=None,\n",
    "    background_image_url=None,\n",
    "    background_image_size=\"fit-width\",\n",
    "    background_image_position=\"left\",\n",
    "    signout_link=False,\n",
    "    menu_links=None\n",
    ")\n",
    "dashboard.header = header\n",
    "dashboard.save(title)\n",
    "#dashboard.layout = add_row([live_map])'''"
   ]
  },
  {
   "cell_type": "code",
   "execution_count": null,
   "metadata": {},
   "outputs": [],
   "source": []
  },
  {
   "cell_type": "code",
   "execution_count": 20,
   "metadata": {},
   "outputs": [
    {
     "data": {
      "text/html": [
       "<div class=\"item_container\" style=\"height: auto; overflow: hidden; border: 1px solid #cfcfcf; border-radius: 2px; background: #f6fafa; line-height: 1.21429em; padding: 10px;\">\n",
       "                    <div class=\"item_left\" style=\"width: 210px; float: left;\">\n",
       "                       <a href='https://www.arcgis.com//home/item.html?id=a8a4b85bd5734436bddf036efa7d202a' target='_blank'>\n",
       "                        <img src='data:image/png;base64,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' width='200' height='133' class=\"itemThumbnail\">\n",
       "                       </a>\n",
       "                    </div>\n",
       "\n",
       "                    <div class=\"item_right\"     style=\"float: none; width: auto; overflow: hidden;\">\n",
       "                        <a href='https://www.arcgis.com//home/item.html?id=a8a4b85bd5734436bddf036efa7d202a' target='_blank'><b>Cancer Rate and Measured Well Nitrate Levels in Wisconsin</b>\n",
       "                        </a>\n",
       "                        <br/><img src='https://www.arcgis.com//home/js/jsapi/esri/css/images/item_type_icons/layers16.png' style=\"vertical-align:middle;\">Dashboard by bstrock@wisc.edu_UW_Mad\n",
       "                        <br/>Last Modified: October 10, 2021\n",
       "                        <br/>0 comments, 0 views\n",
       "                    </div>\n",
       "                </div>\n",
       "                "
      ],
      "text/plain": [
       "<Item title:\"Cancer Rate and Measured Well Nitrate Levels in Wisconsin\" type:Dashboard owner:bstrock@wisc.edu_UW_Mad>"
      ]
     },
     "execution_count": 20,
     "metadata": {},
     "output_type": "execute_result"
    }
   ],
   "source": [
    "display(dashboard)"
   ]
  }
 ],
 "metadata": {
  "kernelspec": {
   "display_name": "Python 3 (ipykernel)",
   "language": "python",
   "name": "python3"
  },
  "language_info": {
   "codemirror_mode": {
    "name": "ipython",
    "version": 3
   },
   "file_extension": ".py",
   "mimetype": "text/x-python",
   "name": "python",
   "nbconvert_exporter": "python",
   "pygments_lexer": "ipython3",
   "version": "3.7.11"
  }
 },
 "nbformat": 4,
 "nbformat_minor": 1
}
