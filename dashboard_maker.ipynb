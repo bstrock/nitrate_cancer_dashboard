{
 "cells": [
  {
   "cell_type": "code",
   "execution_count": 34,
   "metadata": {
    "collapsed": true
   },
   "outputs": [],
   "source": [
    "from arcgis import GIS\n",
    "from arcgis.apps.dashboard import Dashboard, add_row, add_column, Header, SidePanel, CategorySelector, NumberSelector\n",
    "from arcgis.mapping import WebMap\n",
    "import ipywidgets as widgets\n",
    "from IPython import display\n"
   ]
  },
  {
   "cell_type": "code",
   "execution_count": 9,
   "outputs": [],
   "source": [
    "gis = GIS(\n",
    "    \"pro\"\n",
    "    )\n",
    "title = \"Cancer Rate and Measured Well Nitrate Levels in Wisconsin\"\n",
    "live_map = gis.content.search(f\"{title} owner:{gis.users.me.username} type: Web Map\")[0]\n"
   ],
   "metadata": {
    "collapsed": false,
    "pycharm": {
     "name": "#%%\n"
    }
   }
  },
  {
   "cell_type": "code",
   "execution_count": 28,
   "metadata": {
    "pycharm": {
     "name": "#%%\n"
    }
   },
   "outputs": [],
   "source": []
  },
  {
   "cell_type": "code",
   "execution_count": 40,
   "outputs": [],
   "source": [
    "dashboard = Dashboard()\n",
    "\n",
    "header = Header(\n",
    "    title=title,\n",
    "    subtitle=None,\n",
    "    margin=True,\n",
    "    size=\"medium\",\n",
    "    logo_image_url=None,\n",
    "    logo_url=None,\n",
    "    background_image_url=None,\n",
    "    background_image_size=\"fit-width\",\n",
    "    background_image_position=\"left\",\n",
    "    signout_link=False,\n",
    "    menu_links=None\n",
    ")\n",
    "\n",
    "# the ArcGIS Python API requires that we use a list of tuples containing key-value pairs to populate selectors\n",
    "# can anybody explain to me why you would use a list of tuples instead of a dictionary for key-value pairs\n",
    "# like use an ImmutableDict if you're that worried about it\n",
    "\n",
    "header_key_value_pairs = [\n",
    "    ('Area of Study', 'base'),\n",
    "    ('Data Visualization', 'data_viz'),\n",
    "    ('Nitrate Interpolation', 'interpolation'),\n",
    "    ('Regression Analysis', 'regression')\n",
    "]\n",
    "\n",
    "header_selector = CategorySelector()\n",
    "header_selector.set_defined_values(header_key_value_pairs)\n",
    "header_selector.selector.default_selection = 1\n",
    "header_selector.selector.label = 'Select a Theme'\n",
    "\n",
    "header.add_selector(header_selector)\n",
    "\n",
    "panel_selector = NumberSelector(range=False, display_type='spinner', label='Select Power of Distance (k)')\n",
    "panel_selector.set_defined_limits(lower_limit=1, upper_limit=3)\n",
    "side_panel = SidePanel()\n",
    "side_panel.add_selector(panel_selector)"
   ],
   "metadata": {
    "collapsed": false,
    "pycharm": {
     "name": "#%%\n"
    }
   }
  },
  {
   "cell_type": "code",
   "execution_count": 41,
   "outputs": [
    {
     "data": {
      "text/plain": "'\\nweb_map = WebMap(webmapitem=live_map)\\ndashboard.update(add_row([web_map]))\\n'"
     },
     "execution_count": 41,
     "metadata": {},
     "output_type": "execute_result"
    }
   ],
   "source": [
    "dashboard.header = header\n",
    "dashboard.side_panel = side_panel\n",
    "#map = WebMap(webmapitem=live_map)\n",
    "#dashboard.layout = add_column([side_panel])\n",
    "dashboard.save(title, overwrite=True)\n",
    "'''\n",
    "web_map = WebMap(webmapitem=live_map)\n",
    "dashboard.update(add_row([web_map]))\n",
    "'''"
   ],
   "metadata": {
    "collapsed": false,
    "pycharm": {
     "name": "#%%\n"
    }
   }
  },
  {
   "cell_type": "code",
   "execution_count": 42,
   "metadata": {},
   "outputs": [
    {
     "data": {
      "text/plain": "<Item title:\"Cancer Rate and Measured Well Nitrate Levels in Wisconsin\" type:Dashboard owner:bstrock@wisc.edu_UW_Mad>",
      "text/html": "<div class=\"item_container\" style=\"height: auto; overflow: hidden; border: 1px solid #cfcfcf; border-radius: 2px; background: #f6fafa; line-height: 1.21429em; padding: 10px;\">\n                    <div class=\"item_left\" style=\"width: 210px; float: left;\">\n                       <a href='https://www.arcgis.com//home/item.html?id=2a990303abd74b748d2dc61f65dc9549' target='_blank'>\n                        <img src='http://static.arcgis.com/images/desktopapp.png' class=\"itemThumbnail\">\n                       </a>\n                    </div>\n\n                    <div class=\"item_right\"     style=\"float: none; width: auto; overflow: hidden;\">\n                        <a href='https://www.arcgis.com//home/item.html?id=2a990303abd74b748d2dc61f65dc9549' target='_blank'><b>Cancer Rate and Measured Well Nitrate Levels in Wisconsin</b>\n                        </a>\n                        <br/><img src='https://www.arcgis.com//home/js/jsapi/esri/css/images/item_type_icons/layers16.png' style=\"vertical-align:middle;\">Dashboard by bstrock@wisc.edu_UW_Mad\n                        <br/>Last Modified: October 10, 2021\n                        <br/>0 comments, 0 views\n                    </div>\n                </div>\n                "
     },
     "execution_count": 42,
     "metadata": {},
     "output_type": "execute_result"
    }
   ],
   "source": [
    "dashboard = gis.content.search(f\"{title} owner:{gis.users.me.username} type: Dashboard\")[0]\n",
    "dashboard"
   ]
  },
  {
   "cell_type": "code",
   "execution_count": 21,
   "outputs": [
    {
     "data": {
      "text/plain": "<Item title:\"Cancer Rate and Measured Well Nitrate Levels in Wisconsin\" type:Dashboard owner:bstrock@wisc.edu_UW_Mad>",
      "text/html": "<div class=\"item_container\" style=\"height: auto; overflow: hidden; border: 1px solid #cfcfcf; border-radius: 2px; background: #f6fafa; line-height: 1.21429em; padding: 10px;\">\n                    <div class=\"item_left\" style=\"width: 210px; float: left;\">\n                       <a href='https://www.arcgis.com//home/item.html?id=b835f3883b294638b75607e53b8e6985' target='_blank'>\n                        <img src='http://static.arcgis.com/images/desktopapp.png' class=\"itemThumbnail\">\n                       </a>\n                    </div>\n\n                    <div class=\"item_right\"     style=\"float: none; width: auto; overflow: hidden;\">\n                        <a href='https://www.arcgis.com//home/item.html?id=b835f3883b294638b75607e53b8e6985' target='_blank'><b>Cancer Rate and Measured Well Nitrate Levels in Wisconsin</b>\n                        </a>\n                        <br/><img src='https://www.arcgis.com//home/js/jsapi/esri/css/images/item_type_icons/layers16.png' style=\"vertical-align:middle;\">Dashboard by bstrock@wisc.edu_UW_Mad\n                        <br/>Last Modified: October 10, 2021\n                        <br/>0 comments, 0 views\n                    </div>\n                </div>\n                "
     },
     "execution_count": 21,
     "metadata": {},
     "output_type": "execute_result"
    }
   ],
   "source": [],
   "metadata": {
    "collapsed": false,
    "pycharm": {
     "name": "#%%\n"
    }
   }
  }
 ],
 "metadata": {
  "kernelspec": {
   "name": "pycharm-593e484a",
   "language": "python",
   "display_name": "PyCharm (nitrate_cancer_dashboard)"
  },
  "language_info": {
   "codemirror_mode": {
    "name": "ipython",
    "version": 3
   },
   "file_extension": ".py",
   "mimetype": "text/x-python",
   "name": "python",
   "nbconvert_exporter": "python",
   "pygments_lexer": "ipython3",
   "version": "3.7.11"
  }
 },
 "nbformat": 4,
 "nbformat_minor": 1
}